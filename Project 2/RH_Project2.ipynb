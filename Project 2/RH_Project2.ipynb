{
 "cells": [
  {
   "cell_type": "code",
   "execution_count": 1,
   "metadata": {},
   "outputs": [],
   "source": [
    "from pandas import Series, DataFrame\n",
    "import pandas as pd\n",
    "import numpy as np\n",
    "import re\n",
    "df = pd.read_csv('NYC_Restaurants.csv', dtype=unicode)"
   ]
  },
  {
   "cell_type": "markdown",
   "metadata": {},
   "source": [
    "Q1"
   ]
  },
  {
   "cell_type": "code",
   "execution_count": 2,
   "metadata": {},
   "outputs": [
    {
     "name": "stdout",
     "output_type": "stream",
     "text": [
      "0                    WENDY'S 469 FLATBUSH AVENUE 11225\n",
      "1                    WENDY'S 469 FLATBUSH AVENUE 11225\n",
      "2                    WENDY'S 469 FLATBUSH AVENUE 11225\n",
      "3                    WENDY'S 469 FLATBUSH AVENUE 11225\n",
      "4                    WENDY'S 469 FLATBUSH AVENUE 11225\n",
      "5               TOV KOSHER KITCHEN 97-22 63 ROAD 11374\n",
      "6               TOV KOSHER KITCHEN 97-22 63 ROAD 11374\n",
      "7               TOV KOSHER KITCHEN 97-22 63 ROAD 11374\n",
      "8               TOV KOSHER KITCHEN 97-22 63 ROAD 11374\n",
      "9    BRUNOS ON THE BOULEVARD 8825 ASTORIA BOULEVARD...\n",
      "Name: restaurants, dtype: object\n"
     ]
    }
   ],
   "source": [
    "#print df\n",
    "df['restaurants'] = df['DBA']+' '+df['BUILDING']+' '+df['STREET']+' '+df['ZIPCODE']\n",
    "print df['restaurants'][0:10]"
   ]
  },
  {
   "cell_type": "markdown",
   "metadata": {},
   "source": [
    "Q2"
   ]
  },
  {
   "cell_type": "code",
   "execution_count": 4,
   "metadata": {},
   "outputs": [
    {
     "name": "stdout",
     "output_type": "stream",
     "text": [
      "There are  10114 Unique Resturants\n"
     ]
    }
   ],
   "source": [
    "#Removes the duplicates in th newly created dataset with drop_duplicates\n",
    "Uniq = df.drop_duplicates(subset = 'restaurants')\n",
    "Uniq_len=len(Uniq)\n",
    "print 'There are ',Uniq_len, 'Unique Resturants'"
   ]
  },
  {
   "cell_type": "markdown",
   "metadata": {},
   "source": [
    "Q3"
   ]
  },
  {
   "cell_type": "code",
   "execution_count": 5,
   "metadata": {},
   "outputs": [
    {
     "name": "stdout",
     "output_type": "stream",
     "text": [
      "There are 368 different resturant chains in NYC.\n"
     ]
    }
   ],
   "source": [
    "#Using a mask create a new data frame of only chains\n",
    "Chainlist = Uniq['DBA'].value_counts() \n",
    "Chainmask = Chainlist > 1\n",
    "Chains = Chainlist[Chainmask]\n",
    "Chains_len = len(Chains)\n",
    "print 'There are', Chains_len, 'different resturant chains in NYC.'"
   ]
  },
  {
   "cell_type": "markdown",
   "metadata": {},
   "source": [
    "Q4"
   ]
  },
  {
   "cell_type": "code",
   "execution_count": 6,
   "metadata": {},
   "outputs": [
    {
     "data": {
      "text/plain": [
       "<matplotlib.axes._subplots.AxesSubplot at 0xa9b6978>"
      ]
     },
     "execution_count": 6,
     "metadata": {},
     "output_type": "execute_result"
    }
   ],
   "source": [
    "top20 = Chains[0:20]\n",
    "top20.plot(kind='bar')"
   ]
  },
  {
   "cell_type": "markdown",
   "metadata": {},
   "source": [
    "Q5"
   ]
  },
  {
   "cell_type": "code",
   "execution_count": 7,
   "metadata": {},
   "outputs": [
    {
     "name": "stdout",
     "output_type": "stream",
     "text": [
      "Of the resturants in NYC 16.4 % are chains.\n"
     ]
    }
   ],
   "source": [
    "Chain_frac = int(sum(Chains.values)/float(len(Uniq))*1000)/float(10)\n",
    "print \"Of the resturants in NYC\", str(Chain_frac), '% are chains.'"
   ]
  },
  {
   "cell_type": "code",
   "execution_count": 9,
   "metadata": {},
   "outputs": [
    {
     "name": "stderr",
     "output_type": "stream",
     "text": [
      "C:\\ProgramData\\Anaconda2\\lib\\site-packages\\pandas\\core\\indexing.py:189: SettingWithCopyWarning: \n",
      "A value is trying to be set on a copy of a slice from a DataFrame\n",
      "\n",
      "See the caveats in the documentation: http://pandas.pydata.org/pandas-docs/stable/indexing.html#indexing-view-versus-copy\n",
      "  self._setitem_with_indexer(indexer, value)\n",
      "C:\\ProgramData\\Anaconda2\\lib\\site-packages\\ipykernel_launcher.py:11: SettingWithCopyWarning: \n",
      "A value is trying to be set on a copy of a slice from a DataFrame\n",
      "\n",
      "See the caveats in the documentation: http://pandas.pydata.org/pandas-docs/stable/indexing.html#indexing-view-versus-copy\n",
      "  # This is added back by InteractiveShellApp.init_path()\n"
     ]
    },
    {
     "data": {
      "text/plain": [
       "<matplotlib.axes._subplots.AxesSubplot at 0xcf28390>"
      ]
     },
     "execution_count": 9,
     "metadata": {},
     "output_type": "execute_result"
    },
    {
     "data": {
      "image/png": "[encoded data removed]",
      "text/plain": [
       "<Figure size 432x288 with 1 Axes>"
      ]
     },
     "metadata": {},
     "output_type": "display_data"
    }
   ],
   "source": [
    "def boro_finder(s):\n",
    "    \"\"\"If there is a non-chain in the list of Boros return true\"\"\"\n",
    "    return (s in Non_Chains.index)\n",
    "\n",
    "#Using a mask create a new data frame of only non-chains\n",
    "Non_Chainlist = Uniq['DBA'].value_counts() \n",
    "Non_Chainmask = Non_Chainlist < 2\n",
    "Non_Chains = Non_Chainlist[Non_Chainmask]\n",
    "#Remove the missing BORO Data\n",
    "noboro = (Uniq['BORO']=='Missing')\n",
    "Uniq.loc[noboro,'BORO'] = np.nan\n",
    "#Apply the map function, finding how many chains are in each BORO\n",
    "No_ChainMask = Uniq['DBA'].map(boro_finder)\n",
    "No_ChainBoro = Uniq[No_ChainMask]\n",
    "No_ChainBoro_vc = No_ChainBoro[\"BORO\"].value_counts()\n",
    "No_ChainBoro_vc.plot(kind='bar')\n",
    "#I can't figure out what the error that prints out for this is saying."
   ]
  },
  {
   "cell_type": "markdown",
   "metadata": {},
   "source": [
    "Q7"
   ]
  },
  {
   "cell_type": "code",
   "execution_count": 10,
   "metadata": {},
   "outputs": [
    {
     "name": "stdout",
     "output_type": "stream",
     "text": [
      "No, Brooklyn has the highest ratio of, while Manhattan has the most non-chain returants.\n"
     ]
    },
    {
     "data": {
      "image/png": "[encoded data removed]",
      "text/plain": [
       "<Figure size 432x288 with 1 Axes>"
      ]
     },
     "metadata": {},
     "output_type": "display_data"
    }
   ],
   "source": [
    "#Get the total of unique resturants in each BORO and then calculate the fraction\n",
    "TotalBoro_vc = Uniq['BORO'].value_counts()\n",
    "Boro_frac = (No_ChainBoro_vc/TotalBoro_vc)\n",
    "Boro_frac = Boro_frac.sort_values(ascending = False)\n",
    "Boro_frac.plot(kind='bar')\n",
    "print \"No, Brooklyn has the highest ratio of, while Manhattan has the most non-chain returants.\""
   ]
  },
  {
   "cell_type": "markdown",
   "metadata": {},
   "source": [
    "Q8"
   ]
  },
  {
   "cell_type": "code",
   "execution_count": 14,
   "metadata": {},
   "outputs": [
    {
     "data": {
      "text/plain": [
       "<matplotlib.axes._subplots.AxesSubplot at 0xd4eee80>"
      ]
     },
     "execution_count": 14,
     "metadata": {},
     "output_type": "execute_result"
    },
    {
     "data": {
      "image/png": "[encoded data removed]",
      "text/plain": [
       "<Figure size 432x288 with 1 Axes>"
      ]
     },
     "metadata": {},
     "output_type": "display_data"
    }
   ],
   "source": [
    "Cuisines_vc = Uniq[\"CUISINE DESCRIPTION\"].value_counts()\n",
    "Cuisines_vc[:20].plot(kind='bar')"
   ]
  },
  {
   "cell_type": "markdown",
   "metadata": {},
   "source": [
    "Q9"
   ]
  },
  {
   "cell_type": "code",
   "execution_count": 15,
   "metadata": {},
   "outputs": [
    {
     "name": "stdout",
     "output_type": "stream",
     "text": [
      "Of all the unique resturants in NYC only 241 haven't been cited for a violation.\n"
     ]
    },
    {
     "data": {
      "image/png": "[encoded data removed]",
      "text/plain": [
       "<Figure size 432x288 with 1 Axes>"
      ]
     },
     "metadata": {},
     "output_type": "display_data"
    }
   ],
   "source": [
    "def clean_finder(s):\n",
    "    \"\"\"This will find resturants that haven't been cited for a violation\"\"\"\n",
    "    return(s not in CuisinesDirty_vc)\n",
    "\n",
    "#Find the values for \"VIOLATION CODE\" that arent null within Uniq\n",
    "CuisinesDirty = df[df[\"VIOLATION CODE\"].notnull()]\n",
    "CuisinesDirty_vc = CuisinesDirty[\"restaurants\"].value_counts()\n",
    "#Apply the map function and plot\n",
    "CuisinesClean = df.copy()\n",
    "CuisinesClean_mask = CuisinesClean[\"restaurants\"].map(clean_finder)\n",
    "CuisinesClean = CuisinesClean[CuisinesClean_mask]\n",
    "CuisinesClean = CuisinesClean.drop_duplicates(subset='restaurants')\n",
    "CuisinesClean_vc = CuisinesClean['CUISINE DESCRIPTION'].value_counts()\n",
    "CuisinesClean_vc[:20].plot(kind='bar')\n",
    "print \"Of all the unique resturants in NYC only\",str(len(CuisinesClean)),\"haven't been cited for a violation.\"\n",
    "\n"
   ]
  },
  {
   "cell_type": "markdown",
   "metadata": {},
   "source": [
    "Q10"
   ]
  },
  {
   "cell_type": "code",
   "execution_count": 16,
   "metadata": {},
   "outputs": [
    {
     "name": "stdout",
     "output_type": "stream",
     "text": [
      "The top 10 cuisines with the highest 'cleanliness' ratios are\n",
      "Soul Food                        0.090909\n",
      "Vietnamese/Cambodian/Malaysia    0.062500\n",
      "Other                            0.058252\n",
      "Soups & Sandwiches               0.047619\n",
      "Continental                      0.047619\n",
      "Barbecue                         0.047619\n",
      "Asian                            0.041096\n",
      "Chinese                          0.038251\n",
      "Greek                            0.036364\n",
      "Peruvian                         0.035714\n",
      "Name: CUISINE DESCRIPTION, dtype: float64\n"
     ]
    }
   ],
   "source": [
    "def popular_finder(s):\n",
    "    \"\"\"This will find resturants who serve popular cuisines\"\"\"\n",
    "    return(s in CuisinesPopular)\n",
    "#Create a copy of the data frame and find the popular resturants\n",
    "Cuisines = Uniq.copy()\n",
    "CuisinesClean2 = CuisinesClean.copy()\n",
    "Cuisines_vc = Cuisines[\"CUISINE DESCRIPTION\"].value_counts()\n",
    "CuisinesPopular_mask = Cuisines_vc > 19\n",
    "CuisinesPopular = Cuisines_vc[CuisinesPopular_mask]\n",
    "#Ratio for Q8\n",
    "Q8_mask = Cuisines[\"CUISINE DESCRIPTION\"].map(popular_finder)\n",
    "Cuisines = Cuisines[Q8_mask]\n",
    "#Ratio for Q9\n",
    "Q9_mask = CuisinesClean2[\"CUISINE DESCRIPTION\"].map(popular_finder)\n",
    "CuisinesClean2 = CuisinesClean2[Q9_mask]\n",
    "#Creating the counts and calculating the ratios\n",
    "TotalCount = Cuisines[\"CUISINE DESCRIPTION\"].value_counts()\n",
    "TotalClean = CuisinesClean2[\"CUISINE DESCRIPTION\"].value_counts()\n",
    "PopularRatio = (TotalClean*1.0)/(TotalCount*1.0)\n",
    "pop_mask = PopularRatio.notnull()\n",
    "PopularRatio = PopularRatio[pop_mask]\n",
    "PopularRatio = PopularRatio.sort_values(ascending = False)\n",
    "print \"The top 10 cuisines with the highest 'cleanliness' ratios are\\n\", PopularRatio[:10]\n"
   ]
  },
  {
   "cell_type": "markdown",
   "metadata": {},
   "source": [
    "Q11"
   ]
  },
  {
   "cell_type": "code",
   "execution_count": 17,
   "metadata": {},
   "outputs": [
    {
     "name": "stdout",
     "output_type": "stream",
     "text": [
      "The most common violations is each borough are...\n",
      "BORO\n",
      "BRONX            Non-food contact surface improperly constructe...\n",
      "BROOKLYN         Non-food contact surface improperly constructe...\n",
      "MANHATTAN        Non-food contact surface improperly constructe...\n",
      "Missing          Non-food contact surface improperly constructe...\n",
      "QUEENS           Non-food contact surface improperly constructe...\n",
      "STATEN ISLAND    Non-food contact surface improperly constructe...\n",
      "dtype: object\n"
     ]
    }
   ],
   "source": [
    "BoroViolations = pd.crosstab(df[\"BORO\"], df[\"VIOLATION DESCRIPTION\"])\n",
    "print \"The most common violations is each borough are...\\n\", BoroViolations.T.idxmax()"
   ]
  },
  {
   "cell_type": "markdown",
   "metadata": {},
   "source": [
    "Q12"
   ]
  },
  {
   "cell_type": "code",
   "execution_count": 18,
   "metadata": {},
   "outputs": [
    {
     "name": "stdout",
     "output_type": "stream",
     "text": [
      "The most common violations after normalization are...\n",
      "BORO\n",
      "BRONX                                  Unprotected food re-served.\n",
      "BROOKLYN         Precooked potentially hazardous food from comm...\n",
      "MANHATTAN        Out-of package sale of tobacco products observed.\n",
      "Missing          ''''Wash hands\u001a sign not posted at hand wash f...\n",
      "QUEENS           Caloric content range (minimum to maximum) not...\n",
      "STATEN ISLAND    Eggs found dirty/cracked; liquid, frozen or po...\n",
      "dtype: object\n"
     ]
    }
   ],
   "source": [
    "Violations_vc = df[\"VIOLATION DESCRIPTION\"].value_counts()\n",
    "Violations_freq = (BoroViolations * 1.0)/(Violations_vc * 1.0)\n",
    "print \"The most common violations after normalization are...\\n\", Violations_freq.T.idxmax()"
   ]
  },
  {
   "cell_type": "markdown",
   "metadata": {},
   "source": [
    "Q13"
   ]
  },
  {
   "cell_type": "code",
   "execution_count": 19,
   "metadata": {},
   "outputs": [
    {
     "name": "stdout",
     "output_type": "stream",
     "text": [
      "There are 34 phone area codes that correspond to a single zip code.\n"
     ]
    }
   ],
   "source": [
    "def Code_finder(s):\n",
    "    \"\"\"Finds the area code for a resturants phone number\"\"\"\n",
    "    return s[0:3]\n",
    "#Apply te map and group in new coloumn\n",
    "df[\"AREA CODE\"] = df[\"PHONE\"].map(Code_finder)\n",
    "df[\"AREA AND ZIP\"] = df[\"AREA CODE\"].map(str) + ' ' + df[\"ZIPCODE\"]\n",
    "AreaZip = df.drop_duplicates(subset='AREA AND ZIP')\n",
    "AreaZip_vc = AreaZip[\"AREA CODE\"].value_counts()\n",
    "zip_mask = AreaZip_vc <2\n",
    "AreaZip_count = len(AreaZip_vc[zip_mask])\n",
    "print \"There are\",str(AreaZip_count), \"phone area codes that correspond to a single zip code.\"\n"
   ]
  },
  {
   "cell_type": "markdown",
   "metadata": {},
   "source": [
    "Q14"
   ]
  },
  {
   "cell_type": "code",
   "execution_count": 20,
   "metadata": {},
   "outputs": [
    {
     "ename": "KeyError",
     "evalue": "'STREET_NAME'",
     "output_type": "error",
     "traceback": [
      "\u001b[1;31m\u001b[0m",
      "\u001b[1;31mKeyError\u001b[0mTraceback (most recent call last)",
      "\u001b[1;32m<ipython-input-20-402537cfbdca>\u001b[0m in \u001b[0;36m<module>\u001b[1;34m()\u001b[0m\n\u001b[0;32m     13\u001b[0m \u001b[0mdf\u001b[0m\u001b[1;33m[\u001b[0m\u001b[1;34m\"STREET_TYPE\"\u001b[0m\u001b[1;33m]\u001b[0m \u001b[1;33m=\u001b[0m \u001b[0mdf\u001b[0m\u001b[1;33m[\u001b[0m\u001b[1;34m\"STREET\"\u001b[0m\u001b[1;33m]\u001b[0m\u001b[1;33m.\u001b[0m\u001b[0mmap\u001b[0m\u001b[1;33m(\u001b[0m\u001b[0mlast_word\u001b[0m\u001b[1;33m)\u001b[0m\u001b[1;33m\u001b[0m\u001b[0m\n\u001b[0;32m     14\u001b[0m \u001b[0mdf\u001b[0m\u001b[1;33m[\u001b[0m\u001b[1;34m\"STREET_BASE\"\u001b[0m\u001b[1;33m]\u001b[0m \u001b[1;33m=\u001b[0m \u001b[0mdf\u001b[0m\u001b[1;33m[\u001b[0m\u001b[1;34m\"STREET\"\u001b[0m\u001b[1;33m]\u001b[0m\u001b[1;33m.\u001b[0m\u001b[0mmap\u001b[0m\u001b[1;33m(\u001b[0m\u001b[0meverything_else\u001b[0m\u001b[1;33m)\u001b[0m\u001b[1;33m\u001b[0m\u001b[0m\n\u001b[1;32m---> 15\u001b[1;33m \u001b[0mdf\u001b[0m\u001b[1;33m[\u001b[0m\u001b[1;34m\"STREET_BASE&ZIP\"\u001b[0m\u001b[1;33m]\u001b[0m \u001b[1;33m=\u001b[0m \u001b[0mdf\u001b[0m\u001b[1;33m[\u001b[0m\u001b[1;34m\"STREET_NAME\"\u001b[0m\u001b[1;33m]\u001b[0m\u001b[1;33m.\u001b[0m\u001b[0mmap\u001b[0m\u001b[1;33m(\u001b[0m\u001b[0mstr\u001b[0m\u001b[1;33m)\u001b[0m \u001b[1;33m+\u001b[0m \u001b[1;34m\" \"\u001b[0m \u001b[1;33m+\u001b[0m\u001b[0mdf\u001b[0m\u001b[1;33m[\u001b[0m\u001b[1;34m\"ZIPCODE\"\u001b[0m\u001b[1;33m]\u001b[0m\u001b[1;33m\u001b[0m\u001b[0m\n\u001b[0m\u001b[0;32m     16\u001b[0m \u001b[0mStreets\u001b[0m \u001b[1;33m=\u001b[0m \u001b[0mdf\u001b[0m\u001b[1;33m[\u001b[0m\u001b[1;33m[\u001b[0m\u001b[1;34m\"STREET_BASE\"\u001b[0m\u001b[1;33m,\u001b[0m \u001b[1;34m\"STREET_TYPE\"\u001b[0m\u001b[1;33m,\u001b[0m \u001b[1;34m\"STREET_BASE&ZIP\"\u001b[0m\u001b[1;33m]\u001b[0m\u001b[1;33m]\u001b[0m\u001b[1;33m.\u001b[0m\u001b[0mdrop_duplicates\u001b[0m\u001b[1;33m(\u001b[0m\u001b[1;33m)\u001b[0m\u001b[1;33m\u001b[0m\u001b[0m\n\u001b[0;32m     17\u001b[0m \u001b[1;31m#print Streets #Checking for input errors\u001b[0m\u001b[1;33m\u001b[0m\u001b[1;33m\u001b[0m\u001b[0m\n",
      "\u001b[1;32mC:\\ProgramData\\Anaconda2\\lib\\site-packages\\pandas\\core\\frame.py\u001b[0m in \u001b[0;36m__getitem__\u001b[1;34m(self, key)\u001b[0m\n\u001b[0;32m   2683\u001b[0m             \u001b[1;32mreturn\u001b[0m \u001b[0mself\u001b[0m\u001b[1;33m.\u001b[0m\u001b[0m_getitem_multilevel\u001b[0m\u001b[1;33m(\u001b[0m\u001b[0mkey\u001b[0m\u001b[1;33m)\u001b[0m\u001b[1;33m\u001b[0m\u001b[0m\n\u001b[0;32m   2684\u001b[0m         \u001b[1;32melse\u001b[0m\u001b[1;33m:\u001b[0m\u001b[1;33m\u001b[0m\u001b[0m\n\u001b[1;32m-> 2685\u001b[1;33m             \u001b[1;32mreturn\u001b[0m \u001b[0mself\u001b[0m\u001b[1;33m.\u001b[0m\u001b[0m_getitem_column\u001b[0m\u001b[1;33m(\u001b[0m\u001b[0mkey\u001b[0m\u001b[1;33m)\u001b[0m\u001b[1;33m\u001b[0m\u001b[0m\n\u001b[0m\u001b[0;32m   2686\u001b[0m \u001b[1;33m\u001b[0m\u001b[0m\n\u001b[0;32m   2687\u001b[0m     \u001b[1;32mdef\u001b[0m \u001b[0m_getitem_column\u001b[0m\u001b[1;33m(\u001b[0m\u001b[0mself\u001b[0m\u001b[1;33m,\u001b[0m \u001b[0mkey\u001b[0m\u001b[1;33m)\u001b[0m\u001b[1;33m:\u001b[0m\u001b[1;33m\u001b[0m\u001b[0m\n",
      "\u001b[1;32mC:\\ProgramData\\Anaconda2\\lib\\site-packages\\pandas\\core\\frame.py\u001b[0m in \u001b[0;36m_getitem_column\u001b[1;34m(self, key)\u001b[0m\n\u001b[0;32m   2690\u001b[0m         \u001b[1;31m# get column\u001b[0m\u001b[1;33m\u001b[0m\u001b[1;33m\u001b[0m\u001b[0m\n\u001b[0;32m   2691\u001b[0m         \u001b[1;32mif\u001b[0m \u001b[0mself\u001b[0m\u001b[1;33m.\u001b[0m\u001b[0mcolumns\u001b[0m\u001b[1;33m.\u001b[0m\u001b[0mis_unique\u001b[0m\u001b[1;33m:\u001b[0m\u001b[1;33m\u001b[0m\u001b[0m\n\u001b[1;32m-> 2692\u001b[1;33m             \u001b[1;32mreturn\u001b[0m \u001b[0mself\u001b[0m\u001b[1;33m.\u001b[0m\u001b[0m_get_item_cache\u001b[0m\u001b[1;33m(\u001b[0m\u001b[0mkey\u001b[0m\u001b[1;33m)\u001b[0m\u001b[1;33m\u001b[0m\u001b[0m\n\u001b[0m\u001b[0;32m   2693\u001b[0m \u001b[1;33m\u001b[0m\u001b[0m\n\u001b[0;32m   2694\u001b[0m         \u001b[1;31m# duplicate columns & possible reduce dimensionality\u001b[0m\u001b[1;33m\u001b[0m\u001b[1;33m\u001b[0m\u001b[0m\n",
      "\u001b[1;32mC:\\ProgramData\\Anaconda2\\lib\\site-packages\\pandas\\core\\generic.py\u001b[0m in \u001b[0;36m_get_item_cache\u001b[1;34m(self, item)\u001b[0m\n\u001b[0;32m   2484\u001b[0m         \u001b[0mres\u001b[0m \u001b[1;33m=\u001b[0m \u001b[0mcache\u001b[0m\u001b[1;33m.\u001b[0m\u001b[0mget\u001b[0m\u001b[1;33m(\u001b[0m\u001b[0mitem\u001b[0m\u001b[1;33m)\u001b[0m\u001b[1;33m\u001b[0m\u001b[0m\n\u001b[0;32m   2485\u001b[0m         \u001b[1;32mif\u001b[0m \u001b[0mres\u001b[0m \u001b[1;32mis\u001b[0m \u001b[0mNone\u001b[0m\u001b[1;33m:\u001b[0m\u001b[1;33m\u001b[0m\u001b[0m\n\u001b[1;32m-> 2486\u001b[1;33m             \u001b[0mvalues\u001b[0m \u001b[1;33m=\u001b[0m \u001b[0mself\u001b[0m\u001b[1;33m.\u001b[0m\u001b[0m_data\u001b[0m\u001b[1;33m.\u001b[0m\u001b[0mget\u001b[0m\u001b[1;33m(\u001b[0m\u001b[0mitem\u001b[0m\u001b[1;33m)\u001b[0m\u001b[1;33m\u001b[0m\u001b[0m\n\u001b[0m\u001b[0;32m   2487\u001b[0m             \u001b[0mres\u001b[0m \u001b[1;33m=\u001b[0m \u001b[0mself\u001b[0m\u001b[1;33m.\u001b[0m\u001b[0m_box_item_values\u001b[0m\u001b[1;33m(\u001b[0m\u001b[0mitem\u001b[0m\u001b[1;33m,\u001b[0m \u001b[0mvalues\u001b[0m\u001b[1;33m)\u001b[0m\u001b[1;33m\u001b[0m\u001b[0m\n\u001b[0;32m   2488\u001b[0m             \u001b[0mcache\u001b[0m\u001b[1;33m[\u001b[0m\u001b[0mitem\u001b[0m\u001b[1;33m]\u001b[0m \u001b[1;33m=\u001b[0m \u001b[0mres\u001b[0m\u001b[1;33m\u001b[0m\u001b[0m\n",
      "\u001b[1;32mC:\\ProgramData\\Anaconda2\\lib\\site-packages\\pandas\\core\\internals.py\u001b[0m in \u001b[0;36mget\u001b[1;34m(self, item, fastpath)\u001b[0m\n\u001b[0;32m   4113\u001b[0m \u001b[1;33m\u001b[0m\u001b[0m\n\u001b[0;32m   4114\u001b[0m             \u001b[1;32mif\u001b[0m \u001b[1;32mnot\u001b[0m \u001b[0misna\u001b[0m\u001b[1;33m(\u001b[0m\u001b[0mitem\u001b[0m\u001b[1;33m)\u001b[0m\u001b[1;33m:\u001b[0m\u001b[1;33m\u001b[0m\u001b[0m\n\u001b[1;32m-> 4115\u001b[1;33m                 \u001b[0mloc\u001b[0m \u001b[1;33m=\u001b[0m \u001b[0mself\u001b[0m\u001b[1;33m.\u001b[0m\u001b[0mitems\u001b[0m\u001b[1;33m.\u001b[0m\u001b[0mget_loc\u001b[0m\u001b[1;33m(\u001b[0m\u001b[0mitem\u001b[0m\u001b[1;33m)\u001b[0m\u001b[1;33m\u001b[0m\u001b[0m\n\u001b[0m\u001b[0;32m   4116\u001b[0m             \u001b[1;32melse\u001b[0m\u001b[1;33m:\u001b[0m\u001b[1;33m\u001b[0m\u001b[0m\n\u001b[0;32m   4117\u001b[0m                 \u001b[0mindexer\u001b[0m \u001b[1;33m=\u001b[0m \u001b[0mnp\u001b[0m\u001b[1;33m.\u001b[0m\u001b[0marange\u001b[0m\u001b[1;33m(\u001b[0m\u001b[0mlen\u001b[0m\u001b[1;33m(\u001b[0m\u001b[0mself\u001b[0m\u001b[1;33m.\u001b[0m\u001b[0mitems\u001b[0m\u001b[1;33m)\u001b[0m\u001b[1;33m)\u001b[0m\u001b[1;33m[\u001b[0m\u001b[0misna\u001b[0m\u001b[1;33m(\u001b[0m\u001b[0mself\u001b[0m\u001b[1;33m.\u001b[0m\u001b[0mitems\u001b[0m\u001b[1;33m)\u001b[0m\u001b[1;33m]\u001b[0m\u001b[1;33m\u001b[0m\u001b[0m\n",
      "\u001b[1;32mC:\\ProgramData\\Anaconda2\\lib\\site-packages\\pandas\\core\\indexes\\base.py\u001b[0m in \u001b[0;36mget_loc\u001b[1;34m(self, key, method, tolerance)\u001b[0m\n\u001b[0;32m   3063\u001b[0m                 \u001b[1;32mreturn\u001b[0m \u001b[0mself\u001b[0m\u001b[1;33m.\u001b[0m\u001b[0m_engine\u001b[0m\u001b[1;33m.\u001b[0m\u001b[0mget_loc\u001b[0m\u001b[1;33m(\u001b[0m\u001b[0mkey\u001b[0m\u001b[1;33m)\u001b[0m\u001b[1;33m\u001b[0m\u001b[0m\n\u001b[0;32m   3064\u001b[0m             \u001b[1;32mexcept\u001b[0m \u001b[0mKeyError\u001b[0m\u001b[1;33m:\u001b[0m\u001b[1;33m\u001b[0m\u001b[0m\n\u001b[1;32m-> 3065\u001b[1;33m                 \u001b[1;32mreturn\u001b[0m \u001b[0mself\u001b[0m\u001b[1;33m.\u001b[0m\u001b[0m_engine\u001b[0m\u001b[1;33m.\u001b[0m\u001b[0mget_loc\u001b[0m\u001b[1;33m(\u001b[0m\u001b[0mself\u001b[0m\u001b[1;33m.\u001b[0m\u001b[0m_maybe_cast_indexer\u001b[0m\u001b[1;33m(\u001b[0m\u001b[0mkey\u001b[0m\u001b[1;33m)\u001b[0m\u001b[1;33m)\u001b[0m\u001b[1;33m\u001b[0m\u001b[0m\n\u001b[0m\u001b[0;32m   3066\u001b[0m \u001b[1;33m\u001b[0m\u001b[0m\n\u001b[0;32m   3067\u001b[0m         \u001b[0mindexer\u001b[0m \u001b[1;33m=\u001b[0m \u001b[0mself\u001b[0m\u001b[1;33m.\u001b[0m\u001b[0mget_indexer\u001b[0m\u001b[1;33m(\u001b[0m\u001b[1;33m[\u001b[0m\u001b[0mkey\u001b[0m\u001b[1;33m]\u001b[0m\u001b[1;33m,\u001b[0m \u001b[0mmethod\u001b[0m\u001b[1;33m=\u001b[0m\u001b[0mmethod\u001b[0m\u001b[1;33m,\u001b[0m \u001b[0mtolerance\u001b[0m\u001b[1;33m=\u001b[0m\u001b[0mtolerance\u001b[0m\u001b[1;33m)\u001b[0m\u001b[1;33m\u001b[0m\u001b[0m\n",
      "\u001b[1;32mpandas\\_libs\\index.pyx\u001b[0m in \u001b[0;36mpandas._libs.index.IndexEngine.get_loc\u001b[1;34m()\u001b[0m\n",
      "\u001b[1;32mpandas\\_libs\\index.pyx\u001b[0m in \u001b[0;36mpandas._libs.index.IndexEngine.get_loc\u001b[1;34m()\u001b[0m\n",
      "\u001b[1;32mpandas\\_libs\\hashtable_class_helper.pxi\u001b[0m in \u001b[0;36mpandas._libs.hashtable.PyObjectHashTable.get_item\u001b[1;34m()\u001b[0m\n",
      "\u001b[1;32mpandas\\_libs\\hashtable_class_helper.pxi\u001b[0m in \u001b[0;36mpandas._libs.hashtable.PyObjectHashTable.get_item\u001b[1;34m()\u001b[0m\n",
      "\u001b[1;31mKeyError\u001b[0m: 'STREET_NAME'"
     ]
    }
   ],
   "source": [
    "def last_word(s):\n",
    "    \"\"\"Finds the last word of the phrase\"\"\"\n",
    "    list = re.findall(\"\\w+\",s)\n",
    "    list = list[-1:]\n",
    "    return \"\".join(list)\n",
    "def everything_else(s):\n",
    "    \"\"\"Returns all of the phrase besides the last word\"\"\"\n",
    "    list = re.findall(\"\\w+\",s)\n",
    "    list = list[:-1]\n",
    "    return \" \".join(list)\n",
    "\n",
    "#Creating a table from the adresses of the resturants\n",
    "df[\"STREET_TYPE\"] = df[\"STREET\"].map(last_word)\n",
    "df[\"STREET_BASE\"] = df[\"STREET\"].map(everything_else)\n",
    "df[\"STREET_BASE&ZIP\"] = df[\"STREET_NAME\"].map(str) + \" \" +df[\"ZIPCODE\"]\n",
    "Streets = df[[\"STREET_BASE\", \"STREET_TYPE\", \"STREET_BASE&ZIP\"]].drop_duplicates()\n",
    "#print Streets #Checking for input errors\n",
    "Streets_mask = Streets[\"STREET_BASE\"] != ''\n",
    "Streets = Streets[Streets_mask]\n",
    "\n",
    "#Merging into the table into the table in the column \"STREET_NAME_ZIP\"\n",
    "Streets_merge = Streets.merge(Streets, left_on = 'STREET_BASE&ZIP', right_on = 'STREET_BASE&ZIP')\n",
    "#print Streets_merge\n",
    "\n",
    "#Creating another table with all instances of differing names and zip codes\n",
    "#It took me so long to realise the 'x' & 'y' from the table were lower case...\n",
    "Streets_difmask = Streets_merge[\"STREET_TYPE_x\"] != Streets_merge[\"STREET_TYPE_y\"]\n",
    "Streets_dif =Streets_merge[Streets_difmask]\n",
    "#Run crosstab on the table of differing names\n",
    "Streets_tab = pd.crosstab(Streets_dif.STREET_TYPE_x,Streets_dif.STREET_TYPE_y)\n",
    "\n",
    "#Find the most common streets of each street type\n",
    "AVE,ST,RD,PL = Streets_tabmax[\"AVE\"],Streets_tabmax[\"ST\"],Streets_tabmax[\"RD\"],Streets_tabmax[\"PL\"]\n",
    "BOULEARD,BULEVARD = Streets_tabmax[\"BOULEARD\"],Streets_tabmax[\"BULEVARD\"]\n",
    "print \"For 'AVE' the most common street type is \",AVE\n",
    "print \"For 'ST' the most common street type is \",ST\n",
    "print \"For 'RD' the most common street type is \",RD\n",
    "print \"For 'PL' the most common street type is \",PL\n",
    "print \"For 'BOULEARD' the most common street type is \",BOULEARD\n",
    "print \"For 'BULEVARD' the most common street type is \",BULEVARD\n"
   ]
  },
  {
   "cell_type": "code",
   "execution_count": null,
   "metadata": {},
   "outputs": [],
   "source": []
  },
  {
   "cell_type": "code",
   "execution_count": null,
   "metadata": {},
   "outputs": [],
   "source": []
  }
 ],
 "metadata": {
  "kernelspec": {
   "display_name": "Python 2",
   "language": "python",
   "name": "python2"
  },
  "language_info": {
   "codemirror_mode": {
    "name": "ipython",
    "version": 2
   },
   "file_extension": ".py",
   "mimetype": "text/x-python",
   "name": "python",
   "nbconvert_exporter": "python",
   "pygments_lexer": "ipython2",
   "version": "2.7.15"
  }
 },
 "nbformat": 4,
 "nbformat_minor": 2
}
